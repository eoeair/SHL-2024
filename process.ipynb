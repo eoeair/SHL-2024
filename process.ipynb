{
 "cells": [
  {
   "cell_type": "code",
   "execution_count": 2,
   "metadata": {},
   "outputs": [
    {
     "name": "stdout",
     "output_type": "stream",
     "text": [
      "Looking in indexes: https://mirrors.bfsu.edu.cn/pypi/web/simple\n",
      "Requirement already satisfied: scikit-learn in /home/pdch/miniforge3/envs/torch/lib/python3.12/site-packages (1.6.0)\n",
      "Requirement already satisfied: pyaml in /home/pdch/miniforge3/envs/torch/lib/python3.12/site-packages (24.12.1)\n",
      "Requirement already satisfied: tensorboardX in /home/pdch/miniforge3/envs/torch/lib/python3.12/site-packages (2.6.2.2)\n",
      "Requirement already satisfied: numpy>=1.19.5 in /home/pdch/miniforge3/envs/torch/lib/python3.12/site-packages (from scikit-learn) (2.1.3)\n",
      "Requirement already satisfied: scipy>=1.6.0 in /home/pdch/miniforge3/envs/torch/lib/python3.12/site-packages (from scikit-learn) (1.14.1)\n",
      "Requirement already satisfied: joblib>=1.2.0 in /home/pdch/miniforge3/envs/torch/lib/python3.12/site-packages (from scikit-learn) (1.4.2)\n",
      "Requirement already satisfied: threadpoolctl>=3.1.0 in /home/pdch/miniforge3/envs/torch/lib/python3.12/site-packages (from scikit-learn) (3.5.0)\n",
      "Requirement already satisfied: PyYAML in /home/pdch/miniforge3/envs/torch/lib/python3.12/site-packages (from pyaml) (6.0.2)\n",
      "Requirement already satisfied: packaging in /home/pdch/miniforge3/envs/torch/lib/python3.12/site-packages (from tensorboardX) (24.2)\n",
      "Requirement already satisfied: protobuf>=3.20 in /home/pdch/miniforge3/envs/torch/lib/python3.12/site-packages (from tensorboardX) (5.29.1)\n",
      "Note: you may need to restart the kernel to use updated packages.\n"
     ]
    }
   ],
   "source": [
    "%pip install scikit-learn pyaml tensorboardX"
   ]
  },
  {
   "cell_type": "markdown",
   "metadata": {},
   "source": [
    "train_modal(模态判断)\n",
    "\n",
    "`BEST ACC@1：`"
   ]
  },
  {
   "cell_type": "code",
   "execution_count": null,
   "metadata": {},
   "outputs": [
    {
     "name": "stdout",
     "output_type": "stream",
     "text": [
      "Parameters:\n",
      "{'work_dir': './work_dir/modal', 'config': 'config/train_modal.yaml', 'phase': 'train', 'save_score': False, 'seed': 1, 'feeder': 'feeder.Feeder_modal', 'num_worker': 8, 'train_feeder_args': {'data_path': './data/fft_data/train/data.npy'}, 'test_feeder_args': {'data_path': './data/fft_data/valid/data.npy'}, 'model': 'net.CNN', 'model_args': {'channels': 9, 'num_classes': 4}, 'weights': None, 'ignore_weights': [], 'base_lr': 0.01, 'step': [10, 50], 'device': 0, 'optimizer': 'Adam', 'nesterov': True, 'batch_size': 16, 'test_batch_size': 16, 'start_epoch': 0, 'num_epoch': 80, 'weight_decay': 0.0001}\n",
      "\n",
      "Epoch:[1/80]\n",
      " 52%|███████████████████                  | 25331/49018 [02:20<03:59, 98.74it/s]"
     ]
    }
   ],
   "source": [
    "!python main.py --config config/train_modal.yaml"
   ]
  },
  {
   "cell_type": "markdown",
   "metadata": {},
   "source": [
    "train_label(label判断)\n",
    "\n",
    "`BEST ACC@1：`"
   ]
  },
  {
   "cell_type": "code",
   "execution_count": null,
   "metadata": {},
   "outputs": [],
   "source": [
    "!python main.py --config config/train_label.yaml"
   ]
  }
 ],
 "metadata": {
  "kernelspec": {
   "display_name": "torch",
   "language": "python",
   "name": "python3"
  },
  "language_info": {
   "codemirror_mode": {
    "name": "ipython",
    "version": 3
   },
   "file_extension": ".py",
   "mimetype": "text/x-python",
   "name": "python",
   "nbconvert_exporter": "python",
   "pygments_lexer": "ipython3",
   "version": "3.12.7"
  }
 },
 "nbformat": 4,
 "nbformat_minor": 2
}
